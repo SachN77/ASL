{
 "cells": [
  {
   "cell_type": "code",
   "execution_count": 1,
   "id": "7d5ba156",
   "metadata": {},
   "outputs": [],
   "source": [
    "import os\n",
    "import numpy as np\n",
    "\n",
    "# data processing\n",
    "import pandas as pd\n",
    "from sklearn.model_selection import train_test_split\n",
    "\n",
    "# Graphs\n",
    "import matplotlib.pyplot as plt\n",
    "import seaborn as sns\n",
    "\n",
    "# Image\n",
    "import skimage.io\n",
    "import skimage.transform\n",
    "\n",
    "# Deep learning\n",
    "import keras\n",
    "from keras.models import Sequential\n",
    "from keras.layers import Dense, Conv2D, Flatten, MaxPool2D, Dropout\n",
    "from keras.callbacks import ModelCheckpoint\n",
    "from keras.preprocessing.image import ImageDataGenerator\n",
    "import tensorflow as tf\n"
   ]
  },
  {
   "cell_type": "code",
   "execution_count": 2,
   "id": "da19c33e",
   "metadata": {},
   "outputs": [],
   "source": [
    "# To be able to reproduce the same results at each runtime, set a random seed\n",
    "np.random.seed(21)\n",
    "\n",
    "tf.random.set_seed(21)\n"
   ]
  },
  {
   "cell_type": "code",
   "execution_count": 3,
   "id": "26796cb1",
   "metadata": {},
   "outputs": [],
   "source": [
    "training_set = pd.read_csv('sign_mnist_train.csv')"
   ]
  },
  {
   "cell_type": "code",
   "execution_count": 4,
   "id": "510a11bb",
   "metadata": {},
   "outputs": [],
   "source": [
    "test_set = pd.read_csv('sign_mnist_test.csv')"
   ]
  },
  {
   "cell_type": "code",
   "execution_count": 5,
   "id": "fac0b697",
   "metadata": {},
   "outputs": [],
   "source": [
    "y = test_set['label']"
   ]
  },
  {
   "cell_type": "code",
   "execution_count": 6,
   "id": "674f4bc0",
   "metadata": {},
   "outputs": [],
   "source": [
    "x_test = test_set.iloc[:, 1:].values\n",
    "y_test = test_set.iloc[:, 0].values\n",
    "x_train = training_set.iloc[:, 1:].values\n",
    "y_train = training_set.iloc[:, 0].values"
   ]
  },
  {
   "cell_type": "code",
   "execution_count": 7,
   "id": "fdaf295f",
   "metadata": {},
   "outputs": [
    {
     "name": "stderr",
     "output_type": "stream",
     "text": [
      "C:\\Users\\sachi\\anaconda3\\lib\\site-packages\\seaborn\\_decorators.py:36: FutureWarning: Pass the following variable as a keyword arg: x. From version 0.12, the only valid positional argument will be `data`, and passing other arguments without an explicit keyword will result in an error or misinterpretation.\n",
      "  warnings.warn(\n"
     ]
    },
    {
     "data": {
      "text/plain": [
       "<AxesSubplot:ylabel='count'>"
      ]
     },
     "execution_count": 7,
     "metadata": {},
     "output_type": "execute_result"
    },
    {
     "data": {
      "image/png": "[encoded data removed]",
      "text/plain": [
       "<Figure size 720x720 with 1 Axes>"
      ]
     },
     "metadata": {
      "needs_background": "light"
     },
     "output_type": "display_data"
    }
   ],
   "source": [
    "plt.figure(figsize = (10,10)) # Label Count\n",
    "sns.set_style(\"darkgrid\")\n",
    "sns.countplot(y_test)"
   ]
  },
  {
   "cell_type": "code",
   "execution_count": 8,
   "id": "d29cdc12",
   "metadata": {},
   "outputs": [
    {
     "data": {
      "text/plain": [
       "<matplotlib.image.AxesImage at 0x15f070ce400>"
      ]
     },
     "execution_count": 8,
     "metadata": {},
     "output_type": "execute_result"
    },
    {
     "data": {
      "image/png": "[encoded data removed]",
      "text/plain": [
       "<Figure size 432x288 with 1 Axes>"
      ]
     },
     "metadata": {},
     "output_type": "display_data"
    }
   ],
   "source": [
    "img = np.array(x_train[0, :].reshape(28,28))\n",
    "plt.imshow(img)"
   ]
  },
  {
   "cell_type": "code",
   "execution_count": null,
   "id": "06df9682",
   "metadata": {},
   "outputs": [],
   "source": []
  },
  {
   "cell_type": "code",
   "execution_count": 9,
   "id": "31519566",
   "metadata": {},
   "outputs": [
    {
     "data": {
      "text/plain": [
       "((27455, 784), (7172, 784))"
      ]
     },
     "execution_count": 9,
     "metadata": {},
     "output_type": "execute_result"
    }
   ],
   "source": [
    "x_train.shape, x_test.shape"
   ]
  },
  {
   "cell_type": "code",
   "execution_count": null,
   "id": "27d26fff",
   "metadata": {},
   "outputs": [],
   "source": []
  },
  {
   "cell_type": "code",
   "execution_count": 10,
   "id": "2bd10e5d",
   "metadata": {},
   "outputs": [],
   "source": [
    "x_train = np.reshape(x_train, (27455, 28, 28, 1))/255\n",
    "x_test = np.reshape(x_test, (7172, 28, 28, 1))/255"
   ]
  },
  {
   "cell_type": "code",
   "execution_count": 11,
   "id": "a25b44d9",
   "metadata": {},
   "outputs": [
    {
     "data": {
      "text/plain": [
       "(array([[[[0.41960784],\n",
       "          [0.4627451 ],\n",
       "          [0.49803922],\n",
       "          ...,\n",
       "          [0.66666667],\n",
       "          [0.66666667],\n",
       "          [0.6627451 ]],\n",
       " \n",
       "         [[0.43529412],\n",
       "          [0.4745098 ],\n",
       "          [0.50588235],\n",
       "          ...,\n",
       "          [0.67058824],\n",
       "          [0.67058824],\n",
       "          [0.66666667]],\n",
       " \n",
       "         [[0.44313725],\n",
       "          [0.48235294],\n",
       "          [0.51372549],\n",
       "          ...,\n",
       "          [0.67058824],\n",
       "          [0.67058824],\n",
       "          [0.67058824]],\n",
       " \n",
       "         ...,\n",
       " \n",
       "         [[0.55686275],\n",
       "          [0.58823529],\n",
       "          [0.62352941],\n",
       "          ...,\n",
       "          [0.79215686],\n",
       "          [0.78823529],\n",
       "          [0.78431373]],\n",
       " \n",
       "         [[0.55686275],\n",
       "          [0.59215686],\n",
       "          [0.62745098],\n",
       "          ...,\n",
       "          [0.8       ],\n",
       "          [0.79607843],\n",
       "          [0.79215686]],\n",
       " \n",
       "         [[0.55686275],\n",
       "          [0.59215686],\n",
       "          [0.62745098],\n",
       "          ...,\n",
       "          [0.8       ],\n",
       "          [0.79607843],\n",
       "          [0.79215686]]],\n",
       " \n",
       " \n",
       "        [[[0.60784314],\n",
       "          [0.61568627],\n",
       "          [0.61176471],\n",
       "          ...,\n",
       "          [0.54117647],\n",
       "          [0.36078431],\n",
       "          [0.42352941]],\n",
       " \n",
       "         [[0.61960784],\n",
       "          [0.62352941],\n",
       "          [0.62352941],\n",
       "          ...,\n",
       "          [0.55686275],\n",
       "          [0.45490196],\n",
       "          [0.56078431]],\n",
       " \n",
       "         [[0.63137255],\n",
       "          [0.63137255],\n",
       "          [0.63137255],\n",
       "          ...,\n",
       "          [0.57647059],\n",
       "          [0.49019608],\n",
       "          [0.54901961]],\n",
       " \n",
       "         ...,\n",
       " \n",
       "         [[0.63529412],\n",
       "          [0.62352941],\n",
       "          [0.56862745],\n",
       "          ...,\n",
       "          [0.35686275],\n",
       "          [0.39607843],\n",
       "          [0.36862745]],\n",
       " \n",
       "         [[0.6       ],\n",
       "          [0.54509804],\n",
       "          [0.45098039],\n",
       "          ...,\n",
       "          [0.38039216],\n",
       "          [0.37254902],\n",
       "          [0.47058824]],\n",
       " \n",
       "         [[0.52941176],\n",
       "          [0.45490196],\n",
       "          [0.37254902],\n",
       "          ...,\n",
       "          [0.40392157],\n",
       "          [0.52941176],\n",
       "          [0.58431373]]],\n",
       " \n",
       " \n",
       "        [[[0.73333333],\n",
       "          [0.7372549 ],\n",
       "          [0.7372549 ],\n",
       "          ...,\n",
       "          [0.25882353],\n",
       "          [0.30196078],\n",
       "          [0.3254902 ]],\n",
       " \n",
       "         [[0.7372549 ],\n",
       "          [0.74117647],\n",
       "          [0.74117647],\n",
       "          ...,\n",
       "          [0.28627451],\n",
       "          [0.28627451],\n",
       "          [0.27843137]],\n",
       " \n",
       "         [[0.74509804],\n",
       "          [0.74509804],\n",
       "          [0.74509804],\n",
       "          ...,\n",
       "          [0.29019608],\n",
       "          [0.26666667],\n",
       "          [0.23921569]],\n",
       " \n",
       "         ...,\n",
       " \n",
       "         [[0.83137255],\n",
       "          [0.77647059],\n",
       "          [0.68627451],\n",
       "          ...,\n",
       "          [0.76470588],\n",
       "          [0.75686275],\n",
       "          [0.75294118]],\n",
       " \n",
       "         [[0.79215686],\n",
       "          [0.70196078],\n",
       "          [0.59607843],\n",
       "          ...,\n",
       "          [0.76470588],\n",
       "          [0.76078431],\n",
       "          [0.75686275]],\n",
       " \n",
       "         [[0.77647059],\n",
       "          [0.65098039],\n",
       "          [0.51764706],\n",
       "          ...,\n",
       "          [0.76470588],\n",
       "          [0.76078431],\n",
       "          [0.76470588]]],\n",
       " \n",
       " \n",
       "        ...,\n",
       " \n",
       " \n",
       "        [[[0.68235294],\n",
       "          [0.68235294],\n",
       "          [0.68235294],\n",
       "          ...,\n",
       "          [0.62745098],\n",
       "          [0.61960784],\n",
       "          [0.61176471]],\n",
       " \n",
       "         [[0.69803922],\n",
       "          [0.69803922],\n",
       "          [0.69411765],\n",
       "          ...,\n",
       "          [0.63529412],\n",
       "          [0.62745098],\n",
       "          [0.61960784]],\n",
       " \n",
       "         [[0.70980392],\n",
       "          [0.70588235],\n",
       "          [0.70588235],\n",
       "          ...,\n",
       "          [0.64313725],\n",
       "          [0.63529412],\n",
       "          [0.63137255]],\n",
       " \n",
       "         ...,\n",
       " \n",
       "         [[0.84313725],\n",
       "          [0.84705882],\n",
       "          [0.84705882],\n",
       "          ...,\n",
       "          [0.78823529],\n",
       "          [0.78039216],\n",
       "          [0.77647059]],\n",
       " \n",
       "         [[0.84705882],\n",
       "          [0.85098039],\n",
       "          [0.85098039],\n",
       "          ...,\n",
       "          [0.78823529],\n",
       "          [0.78431373],\n",
       "          [0.77647059]],\n",
       " \n",
       "         [[0.85098039],\n",
       "          [0.85098039],\n",
       "          [0.85098039],\n",
       "          ...,\n",
       "          [0.79215686],\n",
       "          [0.78431373],\n",
       "          [0.78431373]]],\n",
       " \n",
       " \n",
       "        [[[0.69411765],\n",
       "          [0.70980392],\n",
       "          [0.72156863],\n",
       "          ...,\n",
       "          [0.70980392],\n",
       "          [0.70196078],\n",
       "          [0.69411765]],\n",
       " \n",
       "         [[0.70196078],\n",
       "          [0.71372549],\n",
       "          [0.7254902 ],\n",
       "          ...,\n",
       "          [0.71764706],\n",
       "          [0.70980392],\n",
       "          [0.70196078]],\n",
       " \n",
       "         [[0.70980392],\n",
       "          [0.72156863],\n",
       "          [0.73333333],\n",
       "          ...,\n",
       "          [0.7254902 ],\n",
       "          [0.71764706],\n",
       "          [0.71372549]],\n",
       " \n",
       "         ...,\n",
       " \n",
       "         [[0.50588235],\n",
       "          [0.51764706],\n",
       "          [0.5254902 ],\n",
       "          ...,\n",
       "          [0.36862745],\n",
       "          [0.4       ],\n",
       "          [0.2745098 ]],\n",
       " \n",
       "         [[0.51372549],\n",
       "          [0.5254902 ],\n",
       "          [0.51764706],\n",
       "          ...,\n",
       "          [0.30588235],\n",
       "          [0.39215686],\n",
       "          [0.3372549 ]],\n",
       " \n",
       "         [[0.53333333],\n",
       "          [0.52941176],\n",
       "          [0.52941176],\n",
       "          ...,\n",
       "          [0.25098039],\n",
       "          [0.34117647],\n",
       "          [0.36470588]]],\n",
       " \n",
       " \n",
       "        [[[0.70196078],\n",
       "          [0.70588235],\n",
       "          [0.70588235],\n",
       "          ...,\n",
       "          [0.18431373],\n",
       "          [0.11764706],\n",
       "          [0.15294118]],\n",
       " \n",
       "         [[0.70588235],\n",
       "          [0.71372549],\n",
       "          [0.71764706],\n",
       "          ...,\n",
       "          [0.30980392],\n",
       "          [0.09411765],\n",
       "          [0.13333333]],\n",
       " \n",
       "         [[0.72156863],\n",
       "          [0.72156863],\n",
       "          [0.7254902 ],\n",
       "          ...,\n",
       "          [0.45098039],\n",
       "          [0.09803922],\n",
       "          [0.11372549]],\n",
       " \n",
       "         ...,\n",
       " \n",
       "         [[0.35294118],\n",
       "          [0.36862745],\n",
       "          [0.29803922],\n",
       "          ...,\n",
       "          [0.42745098],\n",
       "          [0.58823529],\n",
       "          [0.6745098 ]],\n",
       " \n",
       "         [[0.36862745],\n",
       "          [0.36470588],\n",
       "          [0.34901961],\n",
       "          ...,\n",
       "          [0.79215686],\n",
       "          [0.83529412],\n",
       "          [0.84313725]],\n",
       " \n",
       "         [[0.37647059],\n",
       "          [0.34509804],\n",
       "          [0.42745098],\n",
       "          ...,\n",
       "          [0.80392157],\n",
       "          [0.81960784],\n",
       "          [0.84313725]]]]),\n",
       " array([[[[0.58431373],\n",
       "          [0.58431373],\n",
       "          [0.58823529],\n",
       "          ...,\n",
       "          [0.58823529],\n",
       "          [0.58823529],\n",
       "          [0.58431373]],\n",
       " \n",
       "         [[0.58823529],\n",
       "          [0.58823529],\n",
       "          [0.58823529],\n",
       "          ...,\n",
       "          [0.59215686],\n",
       "          [0.58823529],\n",
       "          [0.59215686]],\n",
       " \n",
       "         [[0.58823529],\n",
       "          [0.59215686],\n",
       "          [0.59215686],\n",
       "          ...,\n",
       "          [0.59215686],\n",
       "          [0.59215686],\n",
       "          [0.59607843]],\n",
       " \n",
       "         ...,\n",
       " \n",
       "         [[0.27058824],\n",
       "          [0.27058824],\n",
       "          [0.30196078],\n",
       "          ...,\n",
       "          [0.45490196],\n",
       "          [0.44313725],\n",
       "          [0.4627451 ]],\n",
       " \n",
       "         [[0.29019608],\n",
       "          [0.29411765],\n",
       "          [0.29803922],\n",
       "          ...,\n",
       "          [0.43137255],\n",
       "          [0.45490196],\n",
       "          [0.44313725]],\n",
       " \n",
       "         [[0.29411765],\n",
       "          [0.29019608],\n",
       "          [0.29019608],\n",
       "          ...,\n",
       "          [0.43921569],\n",
       "          [0.47058824],\n",
       "          [0.41960784]]],\n",
       " \n",
       " \n",
       "        [[[0.49411765],\n",
       "          [0.50196078],\n",
       "          [0.51372549],\n",
       "          ...,\n",
       "          [0.52156863],\n",
       "          [0.5254902 ],\n",
       "          [0.51764706]],\n",
       " \n",
       "         [[0.50588235],\n",
       "          [0.51764706],\n",
       "          [0.5254902 ],\n",
       "          ...,\n",
       "          [0.53333333],\n",
       "          [0.53333333],\n",
       "          [0.5254902 ]],\n",
       " \n",
       "         [[0.52156863],\n",
       "          [0.52941176],\n",
       "          [0.54117647],\n",
       "          ...,\n",
       "          [0.54901961],\n",
       "          [0.54509804],\n",
       "          [0.54117647]],\n",
       " \n",
       "         ...,\n",
       " \n",
       "         [[0.67843137],\n",
       "          [0.68235294],\n",
       "          [0.69411765],\n",
       "          ...,\n",
       "          [0.72156863],\n",
       "          [0.71372549],\n",
       "          [0.70980392]],\n",
       " \n",
       "         [[0.6745098 ],\n",
       "          [0.68235294],\n",
       "          [0.69411765],\n",
       "          ...,\n",
       "          [0.72156863],\n",
       "          [0.71372549],\n",
       "          [0.70980392]],\n",
       " \n",
       "         [[0.6745098 ],\n",
       "          [0.68235294],\n",
       "          [0.69411765],\n",
       "          ...,\n",
       "          [0.72156863],\n",
       "          [0.71372549],\n",
       "          [0.70588235]]],\n",
       " \n",
       " \n",
       "        [[[0.33333333],\n",
       "          [0.34509804],\n",
       "          [0.36078431],\n",
       "          ...,\n",
       "          [0.71372549],\n",
       "          [0.70980392],\n",
       "          [0.69803922]],\n",
       " \n",
       "         [[0.3372549 ],\n",
       "          [0.34509804],\n",
       "          [0.36470588],\n",
       "          ...,\n",
       "          [0.71764706],\n",
       "          [0.70980392],\n",
       "          [0.70196078]],\n",
       " \n",
       "         [[0.3372549 ],\n",
       "          [0.34901961],\n",
       "          [0.36470588],\n",
       "          ...,\n",
       "          [0.7254902 ],\n",
       "          [0.71764706],\n",
       "          [0.70980392]],\n",
       " \n",
       "         ...,\n",
       " \n",
       "         [[0.35686275],\n",
       "          [0.36862745],\n",
       "          [0.38039216],\n",
       "          ...,\n",
       "          [0.87843137],\n",
       "          [0.87058824],\n",
       "          [0.86666667]],\n",
       " \n",
       "         [[0.35294118],\n",
       "          [0.36078431],\n",
       "          [0.37647059],\n",
       "          ...,\n",
       "          [0.88235294],\n",
       "          [0.87843137],\n",
       "          [0.87058824]],\n",
       " \n",
       "         [[0.34901961],\n",
       "          [0.35686275],\n",
       "          [0.36862745],\n",
       "          ...,\n",
       "          [0.88235294],\n",
       "          [0.87843137],\n",
       "          [0.87058824]]],\n",
       " \n",
       " \n",
       "        ...,\n",
       " \n",
       " \n",
       "        [[[0.74509804],\n",
       "          [0.74901961],\n",
       "          [0.74509804],\n",
       "          ...,\n",
       "          [0.7254902 ],\n",
       "          [0.72156863],\n",
       "          [0.71764706]],\n",
       " \n",
       "         [[0.75686275],\n",
       "          [0.75686275],\n",
       "          [0.75686275],\n",
       "          ...,\n",
       "          [0.72941176],\n",
       "          [0.7254902 ],\n",
       "          [0.72156863]],\n",
       " \n",
       "         [[0.76470588],\n",
       "          [0.76078431],\n",
       "          [0.76470588],\n",
       "          ...,\n",
       "          [0.73333333],\n",
       "          [0.72941176],\n",
       "          [0.73333333]],\n",
       " \n",
       "         ...,\n",
       " \n",
       "         [[0.83921569],\n",
       "          [0.84313725],\n",
       "          [0.83529412],\n",
       "          ...,\n",
       "          [0.81568627],\n",
       "          [0.81568627],\n",
       "          [0.81568627]],\n",
       " \n",
       "         [[0.83921569],\n",
       "          [0.84313725],\n",
       "          [0.81960784],\n",
       "          ...,\n",
       "          [0.81960784],\n",
       "          [0.81568627],\n",
       "          [0.81176471]],\n",
       " \n",
       "         [[0.84313725],\n",
       "          [0.84313725],\n",
       "          [0.81176471],\n",
       "          ...,\n",
       "          [0.82745098],\n",
       "          [0.81960784],\n",
       "          [0.81568627]]],\n",
       " \n",
       " \n",
       "        [[[0.78823529],\n",
       "          [0.80392157],\n",
       "          [0.81568627],\n",
       "          ...,\n",
       "          [0.9372549 ],\n",
       "          [0.9372549 ],\n",
       "          [0.9372549 ]],\n",
       " \n",
       "         [[0.80784314],\n",
       "          [0.81960784],\n",
       "          [0.83137255],\n",
       "          ...,\n",
       "          [0.94901961],\n",
       "          [0.94901961],\n",
       "          [0.94901961]],\n",
       " \n",
       "         [[0.82352941],\n",
       "          [0.83921569],\n",
       "          [0.84705882],\n",
       "          ...,\n",
       "          [0.96470588],\n",
       "          [0.96078431],\n",
       "          [0.95686275]],\n",
       " \n",
       "         ...,\n",
       " \n",
       "         [[1.        ],\n",
       "          [1.        ],\n",
       "          [1.        ],\n",
       "          ...,\n",
       "          [1.        ],\n",
       "          [0.78431373],\n",
       "          [0.55686275]],\n",
       " \n",
       "         [[1.        ],\n",
       "          [1.        ],\n",
       "          [1.        ],\n",
       "          ...,\n",
       "          [0.38823529],\n",
       "          [0.31372549],\n",
       "          [0.30196078]],\n",
       " \n",
       "         [[1.        ],\n",
       "          [1.        ],\n",
       "          [1.        ],\n",
       "          ...,\n",
       "          [0.2627451 ],\n",
       "          [0.2745098 ],\n",
       "          [0.24705882]]],\n",
       " \n",
       " \n",
       "        [[[0.67843137],\n",
       "          [0.68235294],\n",
       "          [0.67843137],\n",
       "          ...,\n",
       "          [0.65882353],\n",
       "          [0.65490196],\n",
       "          [0.65098039]],\n",
       " \n",
       "         [[0.69019608],\n",
       "          [0.69019608],\n",
       "          [0.69019608],\n",
       "          ...,\n",
       "          [0.65882353],\n",
       "          [0.65882353],\n",
       "          [0.65490196]],\n",
       " \n",
       "         [[0.69803922],\n",
       "          [0.69411765],\n",
       "          [0.69803922],\n",
       "          ...,\n",
       "          [0.6627451 ],\n",
       "          [0.65882353],\n",
       "          [0.6627451 ]],\n",
       " \n",
       "         ...,\n",
       " \n",
       "         [[0.77647059],\n",
       "          [0.78039216],\n",
       "          [0.78039216],\n",
       "          ...,\n",
       "          [0.75294118],\n",
       "          [0.75294118],\n",
       "          [0.75294118]],\n",
       " \n",
       "         [[0.77647059],\n",
       "          [0.78431373],\n",
       "          [0.75686275],\n",
       "          ...,\n",
       "          [0.75686275],\n",
       "          [0.75294118],\n",
       "          [0.74901961]],\n",
       " \n",
       "         [[0.78039216],\n",
       "          [0.78823529],\n",
       "          [0.74509804],\n",
       "          ...,\n",
       "          [0.76470588],\n",
       "          [0.75686275],\n",
       "          [0.75294118]]]]))"
      ]
     },
     "execution_count": 11,
     "metadata": {},
     "output_type": "execute_result"
    }
   ],
   "source": [
    "x_train, x_test"
   ]
  },
  {
   "cell_type": "code",
   "execution_count": 12,
   "id": "94661508",
   "metadata": {},
   "outputs": [],
   "source": [
    "# from keras.utils import to_categorical\n",
    "# y_train = to_categorical(y_train, 24)\n",
    "# y_test = to_categorical(y_test, 24)\n",
    "\n",
    "from sklearn.preprocessing import OneHotEncoder\n",
    "y_train= y_train.reshape(-1,1)\n",
    "ohe = OneHotEncoder()\n",
    "y_train = ohe.fit_transform(y_train).toarray()\n",
    "\n",
    "y_test= y_test.reshape(-1,1)\n",
    "ohe = OneHotEncoder()\n",
    "y_test = ohe.fit_transform(y_test).toarray()"
   ]
  },
  {
   "cell_type": "code",
   "execution_count": 13,
   "id": "989af28c",
   "metadata": {},
   "outputs": [],
   "source": [
    "from keras.models import Sequential\n",
    "model = Sequential()"
   ]
  },
  {
   "cell_type": "code",
   "execution_count": 14,
   "id": "e876a0e8",
   "metadata": {},
   "outputs": [
    {
     "name": "stdout",
     "output_type": "stream",
     "text": [
      "Model: \"sequential\"\n",
      "_________________________________________________________________\n",
      " Layer (type)                Output Shape              Param #   \n",
      "=================================================================\n",
      " conv2d (Conv2D)             (None, 26, 26, 128)       1280      \n",
      "                                                                 \n",
      " max_pooling2d (MaxPooling2D  (None, 13, 13, 128)      0         \n",
      " )                                                               \n",
      "                                                                 \n",
      " conv2d_1 (Conv2D)           (None, 11, 11, 64)        73792     \n",
      "                                                                 \n",
      " max_pooling2d_1 (MaxPooling  (None, 5, 5, 64)         0         \n",
      " 2D)                                                             \n",
      "                                                                 \n",
      " dropout (Dropout)           (None, 5, 5, 64)          0         \n",
      "                                                                 \n",
      " flatten (Flatten)           (None, 1600)              0         \n",
      "                                                                 \n",
      " dense (Dense)               (None, 128)               204928    \n",
      "                                                                 \n",
      " dense_1 (Dense)             (None, 24)                3096      \n",
      "                                                                 \n",
      "=================================================================\n",
      "Total params: 283,096\n",
      "Trainable params: 283,096\n",
      "Non-trainable params: 0\n",
      "_________________________________________________________________\n"
     ]
    }
   ],
   "source": [
    "from keras.layers import Conv2D\n",
    "model.add(Conv2D(128, (3,3), input_shape=(28, 28, 1), activation='relu'))\n",
    "\n",
    "from keras.layers import MaxPooling2D\n",
    "model.add(MaxPooling2D(pool_size=(2,2)))\n",
    "\n",
    "model.add(Conv2D(64, (3,3),activation='relu'))\n",
    "model.add(MaxPooling2D(pool_size=(2,2)))\n",
    "\n",
    "from keras.layers import Dropout\n",
    "model.add(Dropout(0.2))\n",
    "\n",
    "from keras.layers import Flatten\n",
    "model.add(Flatten())\n",
    "\n",
    "from keras.layers import Dense\n",
    "model.add(Dense(units = 128, activation = 'relu'))\n",
    "\n",
    "\n",
    "from keras.layers import Dense\n",
    "model.add(Dense(units = 24, activation = 'softmax'))\n",
    "\n",
    "model.summary()"
   ]
  },
  {
   "cell_type": "code",
   "execution_count": 15,
   "id": "950ad498",
   "metadata": {},
   "outputs": [],
   "source": [
    "model.compile(optimizer = 'adam', loss = 'categorical_crossentropy', metrics = ['accuracy'])"
   ]
  },
  {
   "cell_type": "code",
   "execution_count": 16,
   "id": "671e1da2",
   "metadata": {},
   "outputs": [
    {
     "name": "stdout",
     "output_type": "stream",
     "text": [
      "Epoch 1/3\n",
      "1056/1056 [==============================] - 45s 42ms/step - loss: 0.8008 - accuracy: 0.7549 - val_loss: 0.4064 - val_accuracy: 0.8820\n",
      "Epoch 2/3\n",
      "1056/1056 [==============================] - 43s 41ms/step - loss: 0.0694 - accuracy: 0.9805 - val_loss: 0.3599 - val_accuracy: 0.8982\n",
      "Epoch 3/3\n",
      "1056/1056 [==============================] - 46s 43ms/step - loss: 0.0305 - accuracy: 0.9918 - val_loss: 0.3317 - val_accuracy: 0.9219\n"
     ]
    },
    {
     "data": {
      "text/plain": [
       "<keras.callbacks.History at 0x15f20f07d30>"
      ]
     },
     "execution_count": 16,
     "metadata": {},
     "output_type": "execute_result"
    }
   ],
   "source": [
    "model.fit(x_train, y_train, batch_size=26, epochs=3, validation_data = (x_test, y_test))"
   ]
  },
  {
   "cell_type": "code",
   "execution_count": 17,
   "id": "2b71cd54",
   "metadata": {},
   "outputs": [
    {
     "name": "stdout",
     "output_type": "stream",
     "text": [
      "225/225 [==============================] - 2s 9ms/step\n"
     ]
    }
   ],
   "source": [
    "y_pred = model.predict(x_test)"
   ]
  },
  {
   "cell_type": "code",
   "execution_count": 18,
   "id": "4a7fd3fa",
   "metadata": {},
   "outputs": [
    {
     "name": "stdout",
     "output_type": "stream",
     "text": [
      "225/225 [==============================] - 2s 10ms/step - loss: 0.3317 - accuracy: 0.9219\n"
     ]
    },
    {
     "data": {
      "text/plain": [
       "[0.33165955543518066, 0.9219185709953308]"
      ]
     },
     "execution_count": 18,
     "metadata": {},
     "output_type": "execute_result"
    }
   ],
   "source": [
    "model.evaluate(x_test, y_test)"
   ]
  },
  {
   "cell_type": "code",
   "execution_count": 19,
   "id": "c1622452",
   "metadata": {},
   "outputs": [],
   "source": [
    "y_pred = np.argmax(y_pred, axis=1)"
   ]
  },
  {
   "cell_type": "code",
   "execution_count": 20,
   "id": "1f715e76",
   "metadata": {},
   "outputs": [],
   "source": [
    "y_test_ = np.argmax(y_test, axis=1)"
   ]
  },
  {
   "cell_type": "code",
   "execution_count": 21,
   "id": "afe7fbe2",
   "metadata": {},
   "outputs": [],
   "source": [
    "from sklearn.metrics import confusion_matrix\n",
    "cm = confusion_matrix(y_test_, y_pred)"
   ]
  },
  {
   "cell_type": "code",
   "execution_count": 22,
   "id": "7b7ca89e",
   "metadata": {},
   "outputs": [
    {
     "data": {
      "text/plain": [
       "<AxesSubplot:>"
      ]
     },
     "execution_count": 22,
     "metadata": {},
     "output_type": "execute_result"
    },
    {
     "data": {
      "image/png": "[encoded data removed]",
      "text/plain": [
       "<Figure size 1080x1080 with 2 Axes>"
      ]
     },
     "metadata": {},
     "output_type": "display_data"
    }
   ],
   "source": [
    "plt.figure(figsize = (15,15))\n",
    "sns.heatmap(cm,cmap= \"Blues\", linecolor = 'black' , linewidth = 1 , annot = True, fmt='')"
   ]
  },
  {
   "cell_type": "code",
   "execution_count": 23,
   "id": "fdb877e3",
   "metadata": {},
   "outputs": [],
   "source": [
    "test_data_path = \"C:/Users/sachi/OneDrive/Documents/RoboGarden/Neural Networks/ART/sign_letters\""
   ]
  },
  {
   "cell_type": "code",
   "execution_count": 24,
   "id": "5a76aae0",
   "metadata": {},
   "outputs": [
    {
     "name": "stdout",
     "output_type": "stream",
     "text": [
      "5\n",
      "['a', 'b', 'c', 'e', 'n']\n"
     ]
    }
   ],
   "source": [
    "classes_embeddings = {'a': 0,\n",
    "                      'b': 1,\n",
    "                      'c': 2,\n",
    "                      'e': 3,\n",
    "                      'n': 4\n",
    "                      }\n",
    "# Extract the category names from the dictionary\n",
    "classes = []\n",
    "\n",
    "for key in classes_embeddings.keys():\n",
    "    classes.append(key)\n",
    "\n",
    "n_classes = len(classes)\n",
    "print(n_classes)\n",
    "print(classes)"
   ]
  },
  {
   "cell_type": "code",
   "execution_count": 25,
   "id": "38b067ce",
   "metadata": {},
   "outputs": [
    {
     "name": "stdout",
     "output_type": "stream",
     "text": [
      "['C:/Users/sachi/OneDrive/Documents/RoboGarden/Neural Networks/ART/sign_letters\\\\a', 'C:/Users/sachi/OneDrive/Documents/RoboGarden/Neural Networks/ART/sign_letters\\\\b', 'C:/Users/sachi/OneDrive/Documents/RoboGarden/Neural Networks/ART/sign_letters\\\\c', 'C:/Users/sachi/OneDrive/Documents/RoboGarden/Neural Networks/ART/sign_letters\\\\e', 'C:/Users/sachi/OneDrive/Documents/RoboGarden/Neural Networks/ART/sign_letters\\\\n']\n"
     ]
    }
   ],
   "source": [
    "class_path = [None] * 5\n",
    "\n",
    "i=0\n",
    "\n",
    "for cat in classes:\n",
    "    path = os.path.join(test_data_path, cat)\n",
    "    class_path[i] = path\n",
    "    i+=1\n",
    "print(class_path)"
   ]
  },
  {
   "cell_type": "code",
   "execution_count": 26,
   "id": "99d25194",
   "metadata": {},
   "outputs": [
    {
     "name": "stdout",
     "output_type": "stream",
     "text": [
      "[1, 1, 1, 1, 1]\n"
     ]
    },
    {
     "data": {
      "image/png": "[encoded data removed]",
      "text/plain": [
       "<Figure size 864x288 with 1 Axes>"
      ]
     },
     "metadata": {},
     "output_type": "display_data"
    }
   ],
   "source": [
    "images_count_per_class = []\n",
    "\n",
    "for cat in classes:\n",
    "    #listdir:we can print a list of names of all the files present in the specified path.\n",
    "    files = os.listdir(os.path.join(test_data_path, cat))\n",
    "    #shows the number of files in each class directory\n",
    "    images_count_per_class += [len(files)]\n",
    "print(images_count_per_class)\n",
    "\n",
    "plt.figure(figsize = (12,4))\n",
    "plt.bar([_ for _ in range(n_classes)], images_count_per_class, tick_label=classes)\n",
    "plt.show()"
   ]
  },
  {
   "cell_type": "code",
   "execution_count": 27,
   "id": "8760f291",
   "metadata": {},
   "outputs": [
    {
     "data": {
      "image/png": "[encoded data removed]",
      "text/plain": [
       "<Figure size 1080x216 with 5 Axes>"
      ]
     },
     "metadata": {},
     "output_type": "display_data"
    }
   ],
   "source": [
    "fig, axes = plt.subplots(nrows=1, ncols=n_classes, figsize=(15, 3))\n",
    "\n",
    "class_caption=0\n",
    "\n",
    "for i in range(5):\n",
    "    # Grabs a random image instead of just the first one in the folder\n",
    "    rand = np.random.randint(0,images_count_per_class[i]) \n",
    "    #select the name of the image at location \"rand\" in the files list\n",
    "    #i is the class number(1-5)\n",
    "    img_name = os.listdir(class_path[i])[rand]\n",
    "    #read the image from given directory\n",
    "    img = skimage.io.imread(os.path.join(class_path[i], img_name))\n",
    "    #resizing the images to a smaller version to reduce computation complexity\n",
    "    #128, 128, 3 are the width,height and number of channels in the image\n",
    "    img = skimage.transform.resize(img, (128,128,3), mode='reflect') \n",
    "    axes[class_caption].imshow(img, resample=True)\n",
    "    axes[class_caption].set_title(classes[i], fontsize=8)\n",
    "    class_caption += 1\n",
    "\n",
    "plt.show()"
   ]
  },
  {
   "cell_type": "code",
   "execution_count": 28,
   "id": "3435ce75",
   "metadata": {},
   "outputs": [],
   "source": [
    "from keras.preprocessing.image import ImageDataGenerator\n",
    "test_datagen = ImageDataGenerator(rescale = 1./255,)"
   ]
  },
  {
   "cell_type": "code",
   "execution_count": 29,
   "id": "98ac5614",
   "metadata": {},
   "outputs": [],
   "source": [
    "# test_set2 = test_datagen.flow_from_directory(\"C:/Users/sachi/OneDrive/Documents/RoboGarden/Neural Networks/ART/sign_letters\",\n",
    "#                                             target_size = (28, 28),\n",
    "#                                             color_mode = 'grayscale',\n",
    "#                                             batch_size = 32,\n",
    "#                                             class_mode = 'categorical',\n",
    "#                                             shuffle = False)"
   ]
  },
  {
   "cell_type": "code",
   "execution_count": 30,
   "id": "dcfc91ce",
   "metadata": {},
   "outputs": [
    {
     "name": "stdout",
     "output_type": "stream",
     "text": [
      "Found 5 files belonging to 5 classes.\n"
     ]
    }
   ],
   "source": [
    "test_set2 = tf.keras.utils.image_dataset_from_directory(\n",
    "    directory = 'C:/Users/sachi/OneDrive/Documents/RoboGarden/Neural Networks/ART/sign_letters',\n",
    "    labels=\"inferred\",\n",
    "    label_mode=\"int\",\n",
    "    class_names=None,\n",
    "    color_mode=\"grayscale\",\n",
    "    batch_size=32,\n",
    "    image_size=(28, 28),\n",
    "    shuffle=False,\n",
    "    seed=None,\n",
    "    validation_split=None,\n",
    "    subset=None,\n",
    "    follow_links=False,\n",
    "    crop_to_aspect_ratio=False,\n",
    "\n",
    ")"
   ]
  },
  {
   "cell_type": "code",
   "execution_count": 31,
   "id": "0afefa68",
   "metadata": {},
   "outputs": [
    {
     "data": {
      "text/plain": [
       "<BatchDataset element_spec=(TensorSpec(shape=(None, 28, 28, 1), dtype=tf.float32, name=None), TensorSpec(shape=(None,), dtype=tf.int32, name=None))>"
      ]
     },
     "execution_count": 31,
     "metadata": {},
     "output_type": "execute_result"
    }
   ],
   "source": [
    "test_set2"
   ]
  },
  {
   "cell_type": "code",
   "execution_count": 32,
   "id": "ed860832",
   "metadata": {},
   "outputs": [],
   "source": [
    "y_test2 = y_test[:5, :]"
   ]
  },
  {
   "cell_type": "code",
   "execution_count": 33,
   "id": "0a43f445",
   "metadata": {},
   "outputs": [],
   "source": [
    "# import tensorflow as tf\n",
    "# test_set2 = tf.keras.utils.img_to_array(\n",
    "#     img, data_format=None, dtype=None\n",
    "# )"
   ]
  },
  {
   "cell_type": "code",
   "execution_count": 34,
   "id": "91ecb444",
   "metadata": {},
   "outputs": [
    {
     "name": "stdout",
     "output_type": "stream",
     "text": [
      "1/1 [==============================] - 0s 69ms/step\n",
      "[[0. 0. 0. 0. 0. 0. 1. 0. 0. 0. 0. 0. 0. 0. 0. 0. 0. 0. 0. 0. 0. 0. 0. 0.]\n",
      " [0. 0. 0. 0. 0. 0. 0. 0. 0. 0. 0. 0. 0. 0. 0. 0. 0. 0. 0. 0. 0. 0. 1. 0.]\n",
      " [0. 0. 0. 0. 0. 0. 0. 1. 0. 0. 0. 0. 0. 0. 0. 0. 0. 0. 0. 0. 0. 0. 0. 0.]\n",
      " [0. 0. 0. 0. 0. 0. 1. 0. 0. 0. 0. 0. 0. 0. 0. 0. 0. 0. 0. 0. 0. 0. 0. 0.]\n",
      " [0. 0. 0. 0. 0. 0. 1. 0. 0. 0. 0. 0. 0. 0. 0. 0. 0. 0. 0. 0. 0. 0. 0. 0.]]\n"
     ]
    },
    {
     "data": {
      "text/plain": [
       "array([[0., 0., 0., 0., 0., 0., 1., 0., 0., 0., 0., 0., 0., 0., 0., 0.,\n",
       "        0., 0., 0., 0., 0., 0., 0., 0.],\n",
       "       [0., 0., 0., 0., 0., 1., 0., 0., 0., 0., 0., 0., 0., 0., 0., 0.,\n",
       "        0., 0., 0., 0., 0., 0., 0., 0.],\n",
       "       [0., 0., 0., 0., 0., 0., 0., 0., 0., 1., 0., 0., 0., 0., 0., 0.,\n",
       "        0., 0., 0., 0., 0., 0., 0., 0.],\n",
       "       [1., 0., 0., 0., 0., 0., 0., 0., 0., 0., 0., 0., 0., 0., 0., 0.,\n",
       "        0., 0., 0., 0., 0., 0., 0., 0.],\n",
       "       [0., 0., 0., 1., 0., 0., 0., 0., 0., 0., 0., 0., 0., 0., 0., 0.,\n",
       "        0., 0., 0., 0., 0., 0., 0., 0.]])"
      ]
     },
     "execution_count": 34,
     "metadata": {},
     "output_type": "execute_result"
    }
   ],
   "source": [
    "y_pred2 = model.predict(test_set2)\n",
    "print(y_pred2)\n",
    "y_test2"
   ]
  },
  {
   "cell_type": "code",
   "execution_count": 35,
   "id": "621ba4f4",
   "metadata": {},
   "outputs": [
    {
     "data": {
      "text/plain": [
       "(5, 24)"
      ]
     },
     "execution_count": 35,
     "metadata": {},
     "output_type": "execute_result"
    }
   ],
   "source": [
    "y_pred2.shape"
   ]
  },
  {
   "cell_type": "code",
   "execution_count": 36,
   "id": "d09b100a",
   "metadata": {},
   "outputs": [],
   "source": [
    "y_pred2 = tf.expand_dims(y_pred2, axis = 0)\n"
   ]
  },
  {
   "cell_type": "code",
   "execution_count": 37,
   "id": "a8eac916",
   "metadata": {},
   "outputs": [
    {
     "data": {
      "text/plain": [
       "TensorShape([1, 5, 24])"
      ]
     },
     "execution_count": 37,
     "metadata": {},
     "output_type": "execute_result"
    }
   ],
   "source": [
    "y_pred2.shape"
   ]
  },
  {
   "cell_type": "code",
   "execution_count": 39,
   "id": "a4962439",
   "metadata": {},
   "outputs": [
    {
     "data": {
      "text/plain": [
       "(5, 24)"
      ]
     },
     "execution_count": 39,
     "metadata": {},
     "output_type": "execute_result"
    }
   ],
   "source": [
    "y_test2.shape"
   ]
  },
  {
   "cell_type": "code",
   "execution_count": 40,
   "id": "e6423e6a",
   "metadata": {},
   "outputs": [
    {
     "data": {
      "text/plain": [
       "dtype('float64')"
      ]
     },
     "execution_count": 40,
     "metadata": {},
     "output_type": "execute_result"
    }
   ],
   "source": [
    "y_test2.dtype"
   ]
  },
  {
   "cell_type": "code",
   "execution_count": 41,
   "id": "264a4e5d",
   "metadata": {},
   "outputs": [],
   "source": [
    "y_test2 = tf.expand_dims(y_test2, axis = 0)"
   ]
  },
  {
   "cell_type": "code",
   "execution_count": 42,
   "id": "a5c03eb0",
   "metadata": {},
   "outputs": [
    {
     "data": {
      "text/plain": [
       "TensorShape([1, 5, 24])"
      ]
     },
     "execution_count": 42,
     "metadata": {},
     "output_type": "execute_result"
    }
   ],
   "source": [
    "y_test2.shape"
   ]
  },
  {
   "cell_type": "markdown",
   "id": "7919b5b6",
   "metadata": {},
   "source": [
    "Could not get the evaluate to work for this part of the project."
   ]
  },
  {
   "cell_type": "code",
   "execution_count": null,
   "id": "8e51f086",
   "metadata": {},
   "outputs": [],
   "source": [
    "#model.evaluate(test_set2, y_test2)"
   ]
  },
  {
   "cell_type": "code",
   "execution_count": null,
   "id": "f32d8876",
   "metadata": {},
   "outputs": [],
   "source": []
  },
  {
   "cell_type": "code",
   "execution_count": null,
   "id": "371a2cd5",
   "metadata": {},
   "outputs": [],
   "source": []
  },
  {
   "cell_type": "code",
   "execution_count": null,
   "id": "1bb29b00",
   "metadata": {},
   "outputs": [],
   "source": [
    "# from keras.layers import Conv2D\n",
    "# from keras.layers import MaxPooling2D\n",
    "# from keras.layers import Flatten\n",
    "# from keras.layers import Dense\n",
    "# from keras.layers import Dropout\n",
    "\n",
    "# from keras.models import Sequential\n",
    "# sl_model = Sequential()\n",
    "\n",
    "# # Convolution Layer\n",
    "# sl_model.add(Conv2D(128, (3, 3), input_shape = (28, 28, 1), activation = 'relu')) # shape matches the image size we loaded\n",
    "\n",
    "# # Pooling Layer\n",
    "# sl_model.add(MaxPooling2D(pool_size = (2, 2)))\n",
    "\n",
    "# # Add a dropout layer\n",
    "# sl_model.add(Dropout(0.2))\n",
    "\n",
    "# # Adding a second convolutional layer\n",
    "# sl_model.add(Conv2D(64, (3, 3), activation = 'relu'))\n",
    "# sl_model.add(MaxPooling2D(pool_size = (2, 2)))\n",
    "\n",
    "# # Flattening layer\n",
    "# sl_model.add(Flatten())\n",
    "\n",
    "# # Fully connected dense layer\n",
    "# sl_model.add(Dense(units = 128, activation = 'relu'))\n",
    "\n",
    "# # Output layer (one node for binary models, use softmax for multi-class models)\n",
    "# sl_model.add(Dense(units = 24, activation = 'softmax'))"
   ]
  },
  {
   "cell_type": "code",
   "execution_count": null,
   "id": "8776ce88",
   "metadata": {},
   "outputs": [],
   "source": [
    "# sl_model.compile(optimizer = 'adam', loss = 'categorical_crossentropy', metrics = ['accuracy'])"
   ]
  },
  {
   "cell_type": "code",
   "execution_count": null,
   "id": "7e6252d3",
   "metadata": {},
   "outputs": [],
   "source": [
    "# sl_model.summary()"
   ]
  },
  {
   "cell_type": "code",
   "execution_count": null,
   "id": "175c8563",
   "metadata": {},
   "outputs": [],
   "source": [
    "#sl_model.fit(x_train, y_train, batch_size=26, validation_split = 0.1, epochs=10)"
   ]
  },
  {
   "cell_type": "code",
   "execution_count": null,
   "id": "21345877",
   "metadata": {},
   "outputs": [],
   "source": []
  },
  {
   "cell_type": "code",
   "execution_count": null,
   "id": "fb163345",
   "metadata": {},
   "outputs": [],
   "source": []
  },
  {
   "cell_type": "code",
   "execution_count": null,
   "id": "cfafab37",
   "metadata": {},
   "outputs": [],
   "source": []
  }
 ],
 "metadata": {
  "kernelspec": {
   "display_name": "Python 3 (ipykernel)",
   "language": "python",
   "name": "python3"
  },
  "language_info": {
   "codemirror_mode": {
    "name": "ipython",
    "version": 3
   },
   "file_extension": ".py",
   "mimetype": "text/x-python",
   "name": "python",
   "nbconvert_exporter": "python",
   "pygments_lexer": "ipython3",
   "version": "3.9.12"
  }
 },
 "nbformat": 4,
 "nbformat_minor": 5
}
